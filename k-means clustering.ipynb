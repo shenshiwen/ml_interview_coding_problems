{
 "cells": [
  {
   "cell_type": "markdown",
   "id": "e4b9819d",
   "metadata": {},
   "source": [
    "**K-means Clustering Coding**"
   ]
  },
  {
   "cell_type": "markdown",
   "id": "ed9a9f9f",
   "metadata": {},
   "source": [
    "Step 1: Select the number of clusters that we want, k.\\\n",
    "Step 2: Randomly choose k points in the data as centroids.\\\n",
    "Step 3: Assign each data point to its nearest centroid.\\\n",
    "Step 4: Recompute the centroids of each cluster.\\\n",
    "Step 5: Repeat Step 3 and Step 4 until some stopping criteria: points do not change cluster, centroids do not change within some threshold or max number of iterations."
   ]
  },
  {
   "cell_type": "code",
   "execution_count": 3,
   "id": "dd9e492d",
   "metadata": {},
   "outputs": [],
   "source": [
    "import numpy as np\n",
    "import random"
   ]
  },
  {
   "cell_type": "code",
   "execution_count": 45,
   "id": "5e6a800a",
   "metadata": {},
   "outputs": [],
   "source": [
    "def train_k_means(X, k):\n",
    "    n, p = X.shape\n",
    "    random_list = random.sample(range(n), k)\n",
    "    centroids = X[random_list]\n",
    "    diff = 10\n",
    "    while diff > 0.01:\n",
    "        clusters = predict(X, centroids)\n",
    "        new_centroids = []\n",
    "        for c in range(k):\n",
    "            new_centroids.append(np.mean(X[clusters == c], axis = 0))\n",
    "        diff = np.sum(np.absolute(centroids - np.array(new_centroids)))\n",
    "        centroids = np.array(new_centroids)\n",
    "    return centroids"
   ]
  },
  {
   "cell_type": "code",
   "execution_count": 46,
   "id": "841d0a19",
   "metadata": {},
   "outputs": [],
   "source": [
    "def predict(X, centroids):\n",
    "    predicted_centroids = []\n",
    "    for point in X:\n",
    "        predicted_centroid = classify(point, centroids)\n",
    "        predicted_centroids.append(predicted_centroid)\n",
    "    return np.array(predicted_centroids) "
   ]
  },
  {
   "cell_type": "code",
   "execution_count": 47,
   "id": "c38585af",
   "metadata": {},
   "outputs": [],
   "source": [
    "def classify(x, centroids):\n",
    "    dist = np.sqrt(np.sum((centroids - x)**2, axis = 1))\n",
    "    return np.argmin(dist)"
   ]
  },
  {
   "cell_type": "code",
   "execution_count": 48,
   "id": "988aa04d",
   "metadata": {},
   "outputs": [
    {
     "name": "stdout",
     "output_type": "stream",
     "text": [
      "[[1.33333333 2.        ]\n",
      " [8.33333333 8.        ]]\n"
     ]
    }
   ],
   "source": [
    "X = np.array([[1,2],[1,3],[2,1],[8,9],[7,8],[10,7]])\n",
    "centroids_hat = train_k_means(X, 2)\n",
    "print(centroids_hat)"
   ]
  },
  {
   "cell_type": "code",
   "execution_count": null,
   "id": "4c616b4c",
   "metadata": {},
   "outputs": [],
   "source": []
  }
 ],
 "metadata": {
  "kernelspec": {
   "display_name": "Python 3",
   "language": "python",
   "name": "python3"
  },
  "language_info": {
   "codemirror_mode": {
    "name": "ipython",
    "version": 3
   },
   "file_extension": ".py",
   "mimetype": "text/x-python",
   "name": "python",
   "nbconvert_exporter": "python",
   "pygments_lexer": "ipython3",
   "version": "3.8.8"
  }
 },
 "nbformat": 4,
 "nbformat_minor": 5
}
