{
 "cells": [
  {
   "cell_type": "markdown",
   "id": "14a06bbf",
   "metadata": {},
   "source": [
    "**Linear Regression Coding**"
   ]
  },
  {
   "cell_type": "markdown",
   "id": "b3878b58",
   "metadata": {},
   "source": [
    "**Solution 1: closed form**\n",
    "\n",
    "\\\\( \\hat{w} = (X^TX)^{-1}X^Ty \\  \\\\)"
   ]
  },
  {
   "cell_type": "code",
   "execution_count": 2,
   "id": "799b767e",
   "metadata": {},
   "outputs": [],
   "source": [
    "import numpy as np"
   ]
  },
  {
   "cell_type": "code",
   "execution_count": 3,
   "id": "51f52fd4",
   "metadata": {},
   "outputs": [],
   "source": [
    "def train_linear_reg(X, y):\n",
    "    return  np.dot(np.dot(np.linalg.inv(np.dot(X.T, X)), X.T), y)"
   ]
  },
  {
   "cell_type": "code",
   "execution_count": 23,
   "id": "c5bed559",
   "metadata": {},
   "outputs": [
    {
     "name": "stdout",
     "output_type": "stream",
     "text": [
      "[1. 1. 2.]\n"
     ]
    }
   ],
   "source": [
    "X = np.array([[1, 1, 2], [1, 2, 3], [1, 2, -1]])\n",
    "y = np.array([6, 9, 1])\n",
    "w_hat = train_linear_reg(X, y)\n",
    "print(w_hat)"
   ]
  },
  {
   "cell_type": "markdown",
   "id": "123ea893",
   "metadata": {},
   "source": [
    "**Solution 2: Gradient Descent**\n",
    "\n",
    "\\\\( y = w_0 + XW  \\\\)\n",
    "\\\\(               \\\\)"
   ]
  },
  {
   "cell_type": "code",
   "execution_count": 99,
   "id": "4e4148a2",
   "metadata": {},
   "outputs": [],
   "source": [
    "def train_linear_reg_gd(X, y, learning_rate, max_epochs):\n",
    "    n, p = X.shape\n",
    "    y = y.reshape((n,1))\n",
    "    weights = np.zeros(shape=(p, 1))\n",
    "    bias = np.zeros(shape=(1,1))\n",
    "    for i in range(max_epochs):\n",
    "        y_pred = bias + np.dot(X, weights)\n",
    "        # MSE loss\n",
    "#         loss = np.sum((y_pred - y)**2) / n\n",
    "        # gradients wrt weights and bias\n",
    "        grad_weights = np.dot(X.T, (y_pred - y)) / n\n",
    "        grad_bias = np.sum((y_pred - y)) / n\n",
    "        # update weights and bias\n",
    "        weights -= learning_rate * grad_weights\n",
    "        bias -= learning_rate * grad_bias\n",
    "    return np.concatenate((bias, weights))"
   ]
  },
  {
   "cell_type": "code",
   "execution_count": 100,
   "id": "ae3bbed7",
   "metadata": {},
   "outputs": [
    {
     "name": "stdout",
     "output_type": "stream",
     "text": [
      "[[0.82662391]\n",
      " [1.09048193]\n",
      " [2.01086663]]\n"
     ]
    }
   ],
   "source": [
    "X = np.array([[1, 2], [2,3], [2, -1]])\n",
    "y = np.array([6, 9, 1])\n",
    "w_hat_gd = train_linear_reg_gd(X, y, 0.01, 1000)\n",
    "print(w_hat_gd)"
   ]
  }
 ],
 "metadata": {
  "kernelspec": {
   "display_name": "Python 3",
   "language": "python",
   "name": "python3"
  },
  "language_info": {
   "codemirror_mode": {
    "name": "ipython",
    "version": 3
   },
   "file_extension": ".py",
   "mimetype": "text/x-python",
   "name": "python",
   "nbconvert_exporter": "python",
   "pygments_lexer": "ipython3",
   "version": "3.8.8"
  }
 },
 "nbformat": 4,
 "nbformat_minor": 5
}
