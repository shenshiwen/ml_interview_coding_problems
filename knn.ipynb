{
 "cells": [
  {
   "cell_type": "markdown",
   "id": "b0d9f67b",
   "metadata": {},
   "source": [
    "**K Nearest Neighbors Classification**"
   ]
  },
  {
   "cell_type": "markdown",
   "id": "764cc1e6",
   "metadata": {},
   "source": [
    "Step 1: Calculate the distance from the new point to all other points in the dataset.\\\n",
    "Step 2: We sort and then store the K nearest neighbours (data points).\\\n",
    "Step 3: Get the most popular class from these neighbours.\\\n",
    "Step 4: Return this class as the prediction."
   ]
  },
  {
   "cell_type": "code",
   "execution_count": 16,
   "id": "d21ee79d",
   "metadata": {},
   "outputs": [],
   "source": [
    "import numpy as np\n",
    "from scipy import stats"
   ]
  },
  {
   "cell_type": "code",
   "execution_count": 3,
   "id": "2bc5a6c5",
   "metadata": {},
   "outputs": [],
   "source": [
    "def dist(x, y):\n",
    "    return np.sqrt(sum((x - y)**2))"
   ]
  },
  {
   "cell_type": "code",
   "execution_count": 20,
   "id": "4dc35459",
   "metadata": {},
   "outputs": [],
   "source": [
    "def knn(X, y, x_test, k):\n",
    "    distances = []\n",
    "    for i in range(len(X)):\n",
    "        distances.append((dist(X[i], x_test), y[i]))\n",
    "    neighbors = sorted(distances, key = lambda x : x[0])[0:k]\n",
    "    classes = [c for dist, c in neighbors]\n",
    "    return stats.mode(classes).mode"
   ]
  },
  {
   "cell_type": "code",
   "execution_count": 23,
   "id": "5c54cacc",
   "metadata": {},
   "outputs": [
    {
     "name": "stdout",
     "output_type": "stream",
     "text": [
      "[0]\n"
     ]
    }
   ],
   "source": [
    "X = np.array([[1,2],[3,2],[5,6]])\n",
    "y = np.array([1,1,0])\n",
    "x_test = np.array([9,3])\n",
    "k = 2\n",
    "class_hat = knn(X, y, x_test, k)\n",
    "print(class_hat)"
   ]
  },
  {
   "cell_type": "markdown",
   "id": "be46ce61",
   "metadata": {},
   "source": [
    "The above algorithm takes long time to sort distances O(nlogn). This step can be improved by using QuickSelect algorithm, which only requires O(n) time complexity"
   ]
  },
  {
   "cell_type": "code",
   "execution_count": null,
   "id": "f395af75",
   "metadata": {},
   "outputs": [],
   "source": []
  },
  {
   "cell_type": "code",
   "execution_count": null,
   "id": "d2f697d0",
   "metadata": {},
   "outputs": [],
   "source": []
  }
 ],
 "metadata": {
  "kernelspec": {
   "display_name": "Python 3",
   "language": "python",
   "name": "python3"
  },
  "language_info": {
   "codemirror_mode": {
    "name": "ipython",
    "version": 3
   },
   "file_extension": ".py",
   "mimetype": "text/x-python",
   "name": "python",
   "nbconvert_exporter": "python",
   "pygments_lexer": "ipython3",
   "version": "3.8.8"
  }
 },
 "nbformat": 4,
 "nbformat_minor": 5
}
