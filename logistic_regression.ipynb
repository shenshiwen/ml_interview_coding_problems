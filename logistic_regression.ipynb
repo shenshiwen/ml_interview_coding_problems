{
 "cells": [
  {
   "cell_type": "markdown",
   "id": "b66b95e1",
   "metadata": {},
   "source": [
    "**Logistic Regression Coding**\n",
    "\n",
    "*Using Gradient Descent Method*"
   ]
  },
  {
   "cell_type": "code",
   "execution_count": 12,
   "id": "644c04b3",
   "metadata": {},
   "outputs": [],
   "source": [
    "import numpy as np"
   ]
  },
  {
   "cell_type": "code",
   "execution_count": 17,
   "id": "efc40c49",
   "metadata": {},
   "outputs": [],
   "source": [
    "def sigmoid(x):\n",
    "    return 1 / (1 + np.exp(-x))\n",
    "\n",
    "def train_logistic_regression_gd(X, y, learning_rate, max_epochs):\n",
    "    n, p = X.shape\n",
    "    y = y.reshape((n, 1))\n",
    "    # initialize weights and bias\n",
    "    weights = np.zeros(shape=(p, 1))\n",
    "    bias = np.zeros(shape=(1,1))\n",
    "    # iterate epochs\n",
    "    for i in range(max_epochs):\n",
    "        y_pred = sigmoid(bias + np.dot(X, weights))\n",
    "        # update gradients\n",
    "        grad_weights = np.dot(X.T, (y_pred - y)) / n\n",
    "        grad_bias = np.sum(y_pred - y)\n",
    "        # update parameters\n",
    "        weights -= learning_rate * grad_weights\n",
    "        bias -= learning_rate * grad_bias\n",
    "    return bias, weights"
   ]
  },
  {
   "cell_type": "code",
   "execution_count": 26,
   "id": "c5fb4ddf",
   "metadata": {},
   "outputs": [
    {
     "name": "stdout",
     "output_type": "stream",
     "text": [
      "[[-0.41304598]\n",
      " [ 1.81750381]]\n",
      "[[-0.08982288]]\n"
     ]
    }
   ],
   "source": [
    "X = np.array([[1, 2], [2,3], [2, -1]])\n",
    "y = np.array([1, 1, 0])\n",
    "bias_hat, weights_hat = train_logistic_regression_gd(X, y, 0.01, 1000)\n",
    "print(weights_hat)\n",
    "print(bias_hat)"
   ]
  },
  {
   "cell_type": "markdown",
   "id": "06e1b7c3",
   "metadata": {},
   "source": [
    "**Serving Function**"
   ]
  },
  {
   "cell_type": "code",
   "execution_count": 27,
   "id": "f513e8be",
   "metadata": {},
   "outputs": [],
   "source": [
    "def serve_logistic_regression(newx, weights, bias):\n",
    "    y_pred = sigmoid(np.dot(newx, weights) + bias)\n",
    "    return 1 if y_pred > 0.5 else 0"
   ]
  },
  {
   "cell_type": "code",
   "execution_count": 32,
   "id": "0114af4c",
   "metadata": {},
   "outputs": [
    {
     "data": {
      "text/plain": [
       "1"
      ]
     },
     "execution_count": 32,
     "metadata": {},
     "output_type": "execute_result"
    }
   ],
   "source": [
    "newx = np.array([-1,3])\n",
    "serve_logistic_regression(newx, weights_hat, bias_hat)"
   ]
  },
  {
   "cell_type": "markdown",
   "id": "06553449",
   "metadata": {},
   "source": [
    "**Multi-class Classification (Multinomial Logistic Regression)**\n",
    "\n",
    "*(1) using softmax*\n",
    "*(2) using cross-entropy*"
   ]
  },
  {
   "cell_type": "code",
   "execution_count": 80,
   "id": "e3ee6cf8",
   "metadata": {},
   "outputs": [],
   "source": [
    "def train_multinomial_logistic_regression_gd(X, y, k, learning_rate, max_epochs):\n",
    "    n, p = X.shape\n",
    "    # translate y using one hot encoding\n",
    "    y_onehot = np.zeros((y.size, k))\n",
    "    y_onehot[np.arange(y.size), y] = 1\n",
    "    # initialize weights and bias\n",
    "    weights = np.zeros(shape=(p, k))\n",
    "    bias = np.zeros(shape=(1,k))\n",
    "    # iterate epochs\n",
    "    for i in range(max_epochs):\n",
    "        # update prediction\n",
    "        numerator = np.exp(bias + np.dot(X, weights))\n",
    "        denominator = np.sum(numerator, axis=1)\n",
    "        prob_pred = numerator / denominator.reshape((n,1))\n",
    "#         y_pred = np.argmax(prob_pred, axis=1).reahspe((n,1))\n",
    "        # update gradients\n",
    "        grad_weights = np.dot(X.T, (prob_pred - y_onehot)) / n\n",
    "        grad_bias = np.sum(prob_pred - y_onehot, axis = 0) / n\n",
    "        # update parameters\n",
    "        weights -= learning_rate * grad_weights\n",
    "        bias -= learning_rate * grad_bias\n",
    "    return bias, weights"
   ]
  },
  {
   "cell_type": "code",
   "execution_count": 81,
   "id": "6469783e",
   "metadata": {},
   "outputs": [],
   "source": [
    "X = np.array([[1, 2], [2,3], [2, -1], [-2,-3]])\n",
    "y = np.array([1, 1, 0, 2])\n",
    "k = 3"
   ]
  },
  {
   "cell_type": "code",
   "execution_count": 82,
   "id": "7fdd8532",
   "metadata": {},
   "outputs": [
    {
     "name": "stdout",
     "output_type": "stream",
     "text": [
      "[[ 0.86002799  0.09827324 -0.95830122]\n",
      " [-0.64945917  1.32497387 -0.6755147 ]]\n",
      "[[-0.0432596  0.1301616 -0.086902 ]]\n"
     ]
    }
   ],
   "source": [
    "bias_hat, weights_hat = train_multinomial_logistic_regression_gd(X, y, 3, 0.01, 1000)\n",
    "print(weights_hat)\n",
    "print(bias_hat)"
   ]
  },
  {
   "cell_type": "code",
   "execution_count": null,
   "id": "e6f7bd24",
   "metadata": {},
   "outputs": [],
   "source": []
  }
 ],
 "metadata": {
  "kernelspec": {
   "display_name": "Python 3",
   "language": "python",
   "name": "python3"
  },
  "language_info": {
   "codemirror_mode": {
    "name": "ipython",
    "version": 3
   },
   "file_extension": ".py",
   "mimetype": "text/x-python",
   "name": "python",
   "nbconvert_exporter": "python",
   "pygments_lexer": "ipython3",
   "version": "3.8.8"
  }
 },
 "nbformat": 4,
 "nbformat_minor": 5
}
